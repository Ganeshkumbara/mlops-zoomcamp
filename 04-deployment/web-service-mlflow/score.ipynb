{
 "cells": [
  {
   "cell_type": "code",
   "execution_count": 37,
   "id": "2e25cf66",
   "metadata": {},
   "outputs": [],
   "source": [
    "import os\n",
    "import uuid\n",
    "import mlflow\n",
    "import requests\n",
    "import pandas as pd\n",
    "from io import BytesIO\n",
    "import numpy as np\n",
    "\n"
   ]
  },
  {
   "cell_type": "code",
   "execution_count": 34,
   "id": "5887deea",
   "metadata": {},
   "outputs": [],
   "source": [
    "year = 2023\n",
    "month = 4\n",
    "taxi_type = 'green'\n",
    "\n",
    "url = f\"https://d37ci6vzurychx.cloudfront.net/trip-data/{taxi_type}_tripdata_{year:04d}-{month:02d}.parquet\"\n",
    "# input_file = f'https://s3.amazonaws.com/nyc-tlc/trip+data/{taxi_type}_tripdata_{year:04d}-{month:02d}.parquet'\n",
    "output_file = f'output/{taxi_type}'\n",
    "file_name = f\"{year:04d}-{month:02d}.parquet\"\n",
    "\n",
    "RUN_ID = 'f36a894b060442d28b492636581cad8c'"
   ]
  },
  {
   "cell_type": "code",
   "execution_count": 40,
   "id": "b9666e19",
   "metadata": {},
   "outputs": [],
   "source": [
    "def generate_uuids(n):\n",
    "    ride_ids = []\n",
    "    for i in range(n):\n",
    "        ride_ids.append(str(uuid.uuid4()))\n",
    "    return ride_ids\n",
    "\n",
    "def read_dataframe(url: str):\n",
    "    response = requests.get(url)\n",
    "    if response.status_code != 200:\n",
    "        raise Exception(response.text)\n",
    "    df = pd.read_parquet(BytesIO(response.content))\n",
    "\n",
    "    df['duration'] = df.lpep_dropoff_datetime - df.lpep_pickup_datetime\n",
    "    df.duration = df.duration.dt.total_seconds() / 60\n",
    "    df = df[(df.duration >= 1) & (df.duration <= 60)]\n",
    "    \n",
    "    df['ride_id'] = generate_uuids(len(df))\n",
    "\n",
    "    return df\n",
    "\n",
    "\n",
    "def prepare_dictionaries(df: pd.DataFrame):\n",
    "    categorical = ['PULocationID', 'DOLocationID']\n",
    "    df[categorical] = df[categorical].astype(str)\n",
    "    \n",
    "    df['PU_DO'] = df['PULocationID'] + '_' + df['DOLocationID']\n",
    "\n",
    "    categorical = ['PU_DO']\n",
    "    numerical = ['trip_distance']\n",
    "    dicts = df[categorical + numerical].to_dict(orient='records')\n",
    "    return dicts"
   ]
  },
  {
   "cell_type": "code",
   "execution_count": 41,
   "id": "6b5f0d80",
   "metadata": {},
   "outputs": [],
   "source": [
    "def load_model(run_id):\n",
    "    logged_model = f's3://ml-model-bucket/1/{run_id}/artifacts/model'\n",
    "    model = mlflow.pyfunc.load_model(logged_model)\n",
    "    return model\n",
    "\n",
    "\n",
    "def apply_model(url, run_id, output_file, file_name):\n",
    "\n",
    "    df = read_dataframe(url)\n",
    "    dicts = prepare_dictionaries(df)\n",
    "\n",
    "    \n",
    "    model = load_model(run_id)\n",
    "    y_pred = model.predict(dicts)\n",
    "\n",
    "    df_result = pd.DataFrame()\n",
    "    df['ride_id'] = f'{year:04d}/{month:02d}_' + df.index.astype('str')\n",
    "    # df_result['ride_id'] = df['ride_id']\n",
    "    # df_result['lpep_pickup_datetime'] = df['lpep_pickup_datetime']\n",
    "    # df_result['PULocationID'] = df['PULocationID']\n",
    "    # df_result['DOLocationID'] = df['DOLocationID']\n",
    "    # df_result['actual_duration'] = df['duration']\n",
    "    df_result['predicted_duration'] = y_pred\n",
    "    # df_result['diff'] = df_result['actual_duration'] - df_result['predicted_duration']\n",
    "    # df_result['model_version'] = run_id\n",
    "    \n",
    "    if not os.path.exists(output_file):\n",
    "        os.makedirs(output_file)\n",
    "    path = os.path.join(output_file, file_name)\n",
    "    # df_result.to_parquet(path, index=False)\n",
    "    df_result.to_parquet(\n",
    "    path,\n",
    "    engine='pyarrow',\n",
    "    compression=None,\n",
    "    index=False)\n",
    "    return y_pred\n"
   ]
  },
  {
   "cell_type": "code",
   "execution_count": 42,
   "id": "cc2899e7",
   "metadata": {},
   "outputs": [
    {
     "data": {
      "application/vnd.jupyter.widget-view+json": {
       "model_id": "174ce7f9029a4b8fa62789f7f31e872f",
       "version_major": 2,
       "version_minor": 0
      },
      "text/plain": [
       "Downloading artifacts:   0%|          | 0/9 [00:00<?, ?it/s]"
      ]
     },
     "metadata": {},
     "output_type": "display_data"
    }
   ],
   "source": [
    "y_pred = apply_model(url=url, run_id=RUN_ID, output_file=output_file, file_name=file_name)"
   ]
  },
  {
   "cell_type": "code",
   "execution_count": 43,
   "id": "b75bd6c9",
   "metadata": {},
   "outputs": [
    {
     "data": {
      "text/plain": [
       "14.010841406437127"
      ]
     },
     "execution_count": 43,
     "metadata": {},
     "output_type": "execute_result"
    }
   ],
   "source": [
    "np.mean(y_pred)\n",
    "# y_pred"
   ]
  },
  {
   "cell_type": "code",
   "execution_count": null,
   "id": "289d4bc4",
   "metadata": {},
   "outputs": [],
   "source": []
  }
 ],
 "metadata": {
  "kernelspec": {
   "display_name": "Python 3 (ipykernel)",
   "language": "python",
   "name": "python3"
  },
  "language_info": {
   "codemirror_mode": {
    "name": "ipython",
    "version": 3
   },
   "file_extension": ".py",
   "mimetype": "text/x-python",
   "name": "python",
   "nbconvert_exporter": "python",
   "pygments_lexer": "ipython3",
   "version": "3.11.7"
  }
 },
 "nbformat": 4,
 "nbformat_minor": 5
}
