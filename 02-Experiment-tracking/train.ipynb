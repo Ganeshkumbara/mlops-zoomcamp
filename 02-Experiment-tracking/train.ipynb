{
 "cells": [
  {
   "cell_type": "code",
   "execution_count": 1,
   "id": "88536438-598e-41ba-a11e-2d03ce9baa97",
   "metadata": {},
   "outputs": [],
   "source": [
    "import pandas as pd"
   ]
  },
  {
   "cell_type": "code",
   "execution_count": 2,
   "id": "23382ebd-e556-4a5f-a27b-d55d0f5e843e",
   "metadata": {},
   "outputs": [],
   "source": [
    "import pickle"
   ]
  },
  {
   "cell_type": "code",
   "execution_count": 3,
   "id": "d180888b-1d3d-43e2-aa84-833ae4f46682",
   "metadata": {},
   "outputs": [],
   "source": [
    "import seaborn as sns\n",
    "import matplotlib.pyplot as plt"
   ]
  },
  {
   "cell_type": "code",
   "execution_count": 4,
   "id": "52e5b425-e97f-4c7e-8ded-6b9889f49643",
   "metadata": {},
   "outputs": [],
   "source": [
    "from sklearn.feature_extraction import DictVectorizer\n",
    "from sklearn.linear_model import LinearRegression\n",
    "from sklearn.linear_model import Lasso\n",
    "\n",
    "from sklearn.metrics import root_mean_squared_error, mean_squared_error"
   ]
  },
  {
   "cell_type": "code",
   "execution_count": 5,
   "id": "a0914bbe-687c-4fb0-af71-ea4bad07d580",
   "metadata": {},
   "outputs": [
    {
     "data": {
      "text/plain": [
       "<Experiment: artifact_location='/home/ganesh/Documents/mlops_zoomcamp/mlops-zoomcamp/02-Experiment-tracking/mlruns/1', creation_time=1716913801964, experiment_id='1', last_update_time=1716913801964, lifecycle_stage='active', name='nyc-taxi-experiment', tags={}>"
      ]
     },
     "execution_count": 5,
     "metadata": {},
     "output_type": "execute_result"
    }
   ],
   "source": [
    "import mlflow\n",
    "\n",
    "mlflow.set_tracking_uri(\"sqlite:///new_mlflow.db\")\n",
    "mlflow.set_experiment(\"nyc-taxi-experiment\")"
   ]
  },
  {
   "cell_type": "code",
   "execution_count": 6,
   "id": "9aff8737-667d-4869-8901-a56cccce1794",
   "metadata": {},
   "outputs": [],
   "source": [
    "def read_dataframe(filename):\n",
    "    df = pd.read_parquet(filename)\n",
    "    \n",
    "    df.tpep_dropoff_datetime = pd.to_datetime(df.tpep_dropoff_datetime)\n",
    "    df.tpep_pickup_datetime = pd.to_datetime(df.tpep_pickup_datetime)\n",
    "    \n",
    "    df['duration'] = df.tpep_dropoff_datetime - df.tpep_pickup_datetime\n",
    "    df.duration = df.duration.apply(lambda td: td.total_seconds()/60)\n",
    "    df = df[(df.duration >= 1) & (df.duration <= 60)]\n",
    "    \n",
    "    categorical = ['PULocationID','DOLocationID']\n",
    "    df[categorical] = df[categorical].astype(str)\n",
    "\n",
    "    return df"
   ]
  },
  {
   "cell_type": "code",
   "execution_count": 7,
   "id": "cc52e2a0-5c2a-42bb-bf60-488f940170a6",
   "metadata": {},
   "outputs": [],
   "source": [
    "df_train = read_dataframe(\"./data/yellow_tripdata_2023-01.parquet\")\n",
    "df_val = read_dataframe(\"./data/yellow_tripdata_2023-02.parquet\")"
   ]
  },
  {
   "cell_type": "code",
   "execution_count": 8,
   "id": "2e997301-2dc3-4fc5-ac74-87d672f34923",
   "metadata": {},
   "outputs": [
    {
     "data": {
      "text/plain": [
       "(3009173, 2855951)"
      ]
     },
     "execution_count": 8,
     "metadata": {},
     "output_type": "execute_result"
    }
   ],
   "source": [
    "len(df_train), len(df_val)"
   ]
  },
  {
   "cell_type": "code",
   "execution_count": 11,
   "id": "e02cc3ac-3c10-4d35-b6ca-70fd546bf09c",
   "metadata": {},
   "outputs": [],
   "source": [
    "# df_train.duration.describe"
   ]
  },
  {
   "cell_type": "code",
   "execution_count": 8,
   "id": "e96d4765-1924-4cea-b155-595683750ee7",
   "metadata": {},
   "outputs": [],
   "source": [
    "df_train[\"PU_DO\"] = df_train[\"PULocationID\"] + '_' + df_train[\"PULocationID\"]\n",
    "df_val[\"PU_DO\"] = df_val[\"PULocationID\"] + '_' + df_val[\"PULocationID\"]"
   ]
  },
  {
   "cell_type": "code",
   "execution_count": 13,
   "id": "43dc5a4c-f81f-42a2-ac53-97e44e4c6bed",
   "metadata": {},
   "outputs": [],
   "source": [
    "df_val ;"
   ]
  },
  {
   "cell_type": "code",
   "execution_count": 9,
   "id": "faf36c97-f5cd-4f48-8a4f-bf58488e8a6b",
   "metadata": {},
   "outputs": [],
   "source": [
    "categorical = ['PULocationID','DOLocationID'] #[\"PU_DO\"]\n",
    "#numerical = ['trip_distance']\n",
    "\n",
    "dv = DictVectorizer()\n",
    "\n",
    "# train_dicts = df_train[categorical + numerical].to_dict(orient = \"records\")\n",
    "train_dicts = df_train[categorical].to_dict(orient = \"records\")\n",
    "X_train = dv.fit_transform(train_dicts)\n"
   ]
  },
  {
   "cell_type": "code",
   "execution_count": 10,
   "id": "330ec65d-c9aa-4bfa-995a-0939ec9f892f",
   "metadata": {},
   "outputs": [],
   "source": [
    "# val_dicts = df_val[categorical + numerical].to_dict(orient = \"records\")\n",
    "val_dicts = df_val[categorical].to_dict(orient = \"records\")\n",
    "X_val = dv.transform(val_dicts)"
   ]
  },
  {
   "cell_type": "code",
   "execution_count": 11,
   "id": "92b161a7-320a-426f-8198-c073138ab7af",
   "metadata": {},
   "outputs": [],
   "source": [
    "target= 'duration'\n",
    "y_train = df_train[target].values\n",
    "y_val = df_val[target].values"
   ]
  },
  {
   "cell_type": "code",
   "execution_count": 17,
   "id": "7f4b0225-1313-4e01-898c-2bb78db205de",
   "metadata": {},
   "outputs": [
    {
     "data": {
      "text/plain": [
       "(1, 515)"
      ]
     },
     "execution_count": 17,
     "metadata": {},
     "output_type": "execute_result"
    }
   ],
   "source": [
    "X_val[0].toarray().shape"
   ]
  },
  {
   "cell_type": "code",
   "execution_count": 18,
   "id": "9d0cf519-849e-4567-bf24-9e2fea398ec2",
   "metadata": {},
   "outputs": [
    {
     "data": {
      "text/plain": [
       "(1, 515)"
      ]
     },
     "execution_count": 18,
     "metadata": {},
     "output_type": "execute_result"
    }
   ],
   "source": [
    "X_train[0].toarray().shape\n",
    "# X_train[0].toarray()"
   ]
  },
  {
   "cell_type": "code",
   "execution_count": 17,
   "id": "8a4fa17c-9a23-4e0a-8bff-9b60800e6617",
   "metadata": {},
   "outputs": [],
   "source": [
    "# testing model using jan data, and using feb data for validation(testing)\n",
    "lr = LinearRegression()\n",
    "lr.fit(X_train, y_train)\n",
    "\n",
    "y_pred = lr.predict(X_val)\n"
   ]
  },
  {
   "cell_type": "code",
   "execution_count": 18,
   "id": "fb380ec1-7cf2-4890-ae6b-e58ba56fbe97",
   "metadata": {},
   "outputs": [
    {
     "data": {
      "text/plain": [
       "7.811817942871299"
      ]
     },
     "execution_count": 18,
     "metadata": {},
     "output_type": "execute_result"
    }
   ],
   "source": [
    "root_mean_squared_error(y_val, y_pred)"
   ]
  },
  {
   "cell_type": "code",
   "execution_count": 19,
   "id": "020e2d14-a08d-4111-bef1-efc9158402cb",
   "metadata": {},
   "outputs": [],
   "source": [
    "with open('./models/lin_reg.bin', 'wb' ) as f_out :\n",
    "    pickle.dump((dv, lr), f_out)"
   ]
  },
  {
   "cell_type": "code",
   "execution_count": 20,
   "id": "50188756-6243-4ade-8e31-d752adf0de03",
   "metadata": {},
   "outputs": [
    {
     "data": {
      "text/plain": [
       "7.649261952010433"
      ]
     },
     "execution_count": 20,
     "metadata": {},
     "output_type": "execute_result"
    }
   ],
   "source": [
    "# testing model with its own traning data as validation data\n",
    "lr = LinearRegression()\n",
    "lr.fit(X_train, y_train)\n",
    "\n",
    "y_pred = lr.predict(X_train)\n",
    "root_mean_squared_error(y_train, y_pred)"
   ]
  },
  {
   "cell_type": "code",
   "execution_count": 26,
   "id": "1fef5b3b-a759-4bb9-a103-c40b3560fb2d",
   "metadata": {},
   "outputs": [],
   "source": [
    "# testing model with its traning data as validation data\n",
    "with mlflow.start_run():\n",
    "\n",
    "    mlflow.set_tag(\"developer\", \"Ganesh\")\n",
    "\n",
    "    mlflow.log_param(\"train-data-path\", \"./data/yellow_tripdata_2023-01.parquet\")\n",
    "    mlflow.log_param(\"valid-data-path\", \"./data/yellow_tripdata_2023-02.parquet\")\n",
    "    \n",
    "    alpha = 0.01\n",
    "    mlflow.log_param(\"alpha\", alpha)\n",
    "    \n",
    "    lr = Lasso(alpha)\n",
    "    lr.fit(X_train, y_train)\n",
    "    \n",
    "    y_pred = lr.predict(X_val)\n",
    "    rmse = root_mean_squared_error(y_val, y_pred)\n",
    "    mlflow.log_metric(\"rmse\", rmse)\n",
    "\n",
    "    mlflow.log_artifact(local_path=\"./models/lin_reg.bin\", artifact_path=\"models_pickle\")"
   ]
  },
  {
   "cell_type": "code",
   "execution_count": null,
   "id": "40f672b8-8ff2-4d44-b30c-82efd923b427",
   "metadata": {},
   "outputs": [],
   "source": []
  },
  {
   "cell_type": "code",
   "execution_count": 27,
   "id": "8d9eed08-d178-4fee-b644-fc4f102c81f8",
   "metadata": {},
   "outputs": [],
   "source": [
    "import xgboost as xgb\n",
    "\n",
    "from hyperopt import fmin, tpe, hp, STATUS_OK, Trials\n",
    "from hyperopt.pyll import scope\n"
   ]
  },
  {
   "cell_type": "code",
   "execution_count": 28,
   "id": "9e78f5b8-2dc5-4efd-9506-921ab3ea1645",
   "metadata": {},
   "outputs": [],
   "source": [
    "train = xgb.DMatrix(X_train, label=y_train)\n",
    "valid = xgb.DMatrix(X_val, label=y_val)"
   ]
  },
  {
   "cell_type": "code",
   "execution_count": 29,
   "id": "17c26516-4f24-4d7e-9849-210c00554c95",
   "metadata": {},
   "outputs": [],
   "source": [
    "\n",
    "def objective(params):\n",
    "    with mlflow.start_run():\n",
    "        mlflow.set_tag(\"model\", \"xgboost\")\n",
    "        mlflow.log_params(params)\n",
    "        booster = xgb.train(\n",
    "            params=params,\n",
    "            dtrain=train,\n",
    "            num_boost_round=500,\n",
    "            evals=[(valid, 'validation')],\n",
    "            early_stopping_rounds=50\n",
    "        )\n",
    "        y_pred = booster.predict(valid)\n",
    "        rmse = mean_squared_error(y_val, y_pred, squared=False)\n",
    "        mlflow.log_metric(\"rmse\", rmse)\n",
    "\n",
    "    return {'loss': rmse, 'status': STATUS_OK}"
   ]
  },
  {
   "cell_type": "code",
   "execution_count": null,
   "id": "0cfcc75e-1134-44a4-b01d-b343c0d484ff",
   "metadata": {},
   "outputs": [],
   "source": [
    "search_space = {\n",
    "    'max_depth': scope.int(hp.quniform('max_depth', 4, 100, 1)),\n",
    "    'learning_rate': hp.loguniform('learning_rate', -3, 0),\n",
    "    'reg_alpha': hp.loguniform('reg_alpha', -5, -1),\n",
    "    'reg_lambda': hp.loguniform('reg_lambda', -6, -1),\n",
    "    'min_child_weight': hp.loguniform('min_child_weight', -1, 3),\n",
    "    'objective': 'reg:linear',\n",
    "    'seed': 42\n",
    "}\n",
    "\n",
    "best_result = fmin(\n",
    "    fn=objective,\n",
    "    space=search_space,\n",
    "    algo=tpe.suggest,\n",
    "    max_evals=50,\n",
    "    trials=Trials()\n",
    ")"
   ]
  },
  {
   "cell_type": "code",
   "execution_count": 34,
   "id": "202b999f-4e6d-40ef-b528-ce6b13689a11",
   "metadata": {},
   "outputs": [
    {
     "name": "stderr",
     "output_type": "stream",
     "text": [
      "/home/ganesh/anaconda3/lib/python3.11/site-packages/xgboost/core.py:160: UserWarning: [21:19:28] WARNING: /home/conda/feedstock_root/build_artifacts/xgboost-split_1713397725960/work/src/objective/regression_obj.cu:209: reg:linear is now deprecated in favor of reg:squarederror.\n",
      "  warnings.warn(smsg, UserWarning)\n"
     ]
    },
    {
     "name": "stdout",
     "output_type": "stream",
     "text": [
      "[0]\tvalidation-rmse:7.26796\n",
      "[1]\tvalidation-rmse:6.00607\n",
      "[2]\tvalidation-rmse:5.87216\n",
      "[3]\tvalidation-rmse:5.68468\n",
      "[4]\tvalidation-rmse:5.62628\n",
      "[5]\tvalidation-rmse:5.54871\n",
      "[6]\tvalidation-rmse:5.45859\n",
      "[7]\tvalidation-rmse:5.36195\n",
      "[8]\tvalidation-rmse:5.32371\n",
      "[9]\tvalidation-rmse:5.31609\n",
      "[10]\tvalidation-rmse:5.31253\n",
      "[11]\tvalidation-rmse:5.29878\n",
      "[12]\tvalidation-rmse:5.27977\n",
      "[13]\tvalidation-rmse:5.27414\n",
      "[14]\tvalidation-rmse:5.27180\n",
      "[15]\tvalidation-rmse:5.27047\n",
      "[16]\tvalidation-rmse:5.26934\n",
      "[17]\tvalidation-rmse:5.26634\n",
      "[18]\tvalidation-rmse:5.26522\n",
      "[19]\tvalidation-rmse:5.26428\n",
      "[20]\tvalidation-rmse:5.26364\n",
      "[21]\tvalidation-rmse:5.26231\n",
      "[22]\tvalidation-rmse:5.26182\n",
      "[23]\tvalidation-rmse:5.26136\n",
      "[24]\tvalidation-rmse:5.26100\n",
      "[25]\tvalidation-rmse:5.26059\n",
      "[26]\tvalidation-rmse:5.25971\n",
      "[27]\tvalidation-rmse:5.25932\n",
      "[28]\tvalidation-rmse:5.25879\n",
      "[29]\tvalidation-rmse:5.25848\n",
      "[30]\tvalidation-rmse:5.25775\n",
      "[31]\tvalidation-rmse:5.25740\n",
      "[32]\tvalidation-rmse:5.25751\n",
      "[33]\tvalidation-rmse:5.25723\n",
      "[34]\tvalidation-rmse:5.25631\n",
      "[35]\tvalidation-rmse:5.25605\n",
      "[36]\tvalidation-rmse:5.25574\n",
      "[37]\tvalidation-rmse:5.25544\n",
      "[38]\tvalidation-rmse:5.25521\n",
      "[39]\tvalidation-rmse:5.25495\n",
      "[40]\tvalidation-rmse:5.25477\n",
      "[41]\tvalidation-rmse:5.25441\n",
      "[42]\tvalidation-rmse:5.25314\n",
      "[43]\tvalidation-rmse:5.25293\n",
      "[44]\tvalidation-rmse:5.25335\n",
      "[45]\tvalidation-rmse:5.25322\n",
      "[46]\tvalidation-rmse:5.25298\n",
      "[47]\tvalidation-rmse:5.25254\n",
      "[48]\tvalidation-rmse:5.25251\n",
      "[49]\tvalidation-rmse:5.25147\n",
      "[50]\tvalidation-rmse:5.25076\n",
      "[51]\tvalidation-rmse:5.25033\n",
      "[52]\tvalidation-rmse:5.24807\n",
      "[53]\tvalidation-rmse:5.24715\n",
      "[54]\tvalidation-rmse:5.24694\n",
      "[55]\tvalidation-rmse:5.24674\n",
      "[56]\tvalidation-rmse:5.24658\n",
      "[57]\tvalidation-rmse:5.24647\n",
      "[58]\tvalidation-rmse:5.24626\n",
      "[59]\tvalidation-rmse:5.24606\n",
      "[60]\tvalidation-rmse:5.24587\n",
      "[61]\tvalidation-rmse:5.24574\n",
      "[62]\tvalidation-rmse:5.24560\n",
      "[63]\tvalidation-rmse:5.24529\n",
      "[64]\tvalidation-rmse:5.24502\n",
      "[65]\tvalidation-rmse:5.24460\n",
      "[66]\tvalidation-rmse:5.24485\n",
      "[67]\tvalidation-rmse:5.24458\n",
      "[68]\tvalidation-rmse:5.24370\n",
      "[69]\tvalidation-rmse:5.24354\n",
      "[70]\tvalidation-rmse:5.24315\n",
      "[71]\tvalidation-rmse:5.24251\n",
      "[72]\tvalidation-rmse:5.24296\n",
      "[73]\tvalidation-rmse:5.24269\n",
      "[74]\tvalidation-rmse:5.24172\n",
      "[75]\tvalidation-rmse:5.24115\n",
      "[76]\tvalidation-rmse:5.24159\n",
      "[77]\tvalidation-rmse:5.24116\n",
      "[78]\tvalidation-rmse:5.24096\n",
      "[79]\tvalidation-rmse:5.24080\n",
      "[80]\tvalidation-rmse:5.24067\n",
      "[81]\tvalidation-rmse:5.24048\n",
      "[82]\tvalidation-rmse:5.24031\n",
      "[83]\tvalidation-rmse:5.23952\n",
      "[84]\tvalidation-rmse:5.23916\n",
      "[85]\tvalidation-rmse:5.23968\n",
      "[86]\tvalidation-rmse:5.23910\n",
      "[87]\tvalidation-rmse:5.23907\n",
      "[88]\tvalidation-rmse:5.23888\n",
      "[89]\tvalidation-rmse:5.23853\n",
      "[90]\tvalidation-rmse:5.23831\n",
      "[91]\tvalidation-rmse:5.23742\n",
      "[92]\tvalidation-rmse:5.23698\n",
      "[93]\tvalidation-rmse:5.23681\n",
      "[94]\tvalidation-rmse:5.23667\n",
      "[95]\tvalidation-rmse:5.23664\n",
      "[96]\tvalidation-rmse:5.23653\n",
      "[97]\tvalidation-rmse:5.23624\n",
      "[98]\tvalidation-rmse:5.23603\n",
      "[99]\tvalidation-rmse:5.23538\n",
      "[100]\tvalidation-rmse:5.23520\n",
      "[101]\tvalidation-rmse:5.23512\n",
      "[102]\tvalidation-rmse:5.23493\n",
      "[103]\tvalidation-rmse:5.23435\n",
      "[104]\tvalidation-rmse:5.23491\n",
      "[105]\tvalidation-rmse:5.23483\n",
      "[106]\tvalidation-rmse:5.23459\n",
      "[107]\tvalidation-rmse:5.23446\n",
      "[108]\tvalidation-rmse:5.23376\n",
      "[109]\tvalidation-rmse:5.23371\n",
      "[110]\tvalidation-rmse:5.23400\n",
      "[111]\tvalidation-rmse:5.23382\n",
      "[112]\tvalidation-rmse:5.23379\n",
      "[113]\tvalidation-rmse:5.23376\n",
      "[114]\tvalidation-rmse:5.23360\n",
      "[115]\tvalidation-rmse:5.23346\n",
      "[116]\tvalidation-rmse:5.23299\n",
      "[117]\tvalidation-rmse:5.23297\n",
      "[118]\tvalidation-rmse:5.23290\n",
      "[119]\tvalidation-rmse:5.23272\n",
      "[120]\tvalidation-rmse:5.23256\n",
      "[121]\tvalidation-rmse:5.23288\n",
      "[122]\tvalidation-rmse:5.23248\n",
      "[123]\tvalidation-rmse:5.23242\n",
      "[124]\tvalidation-rmse:5.23233\n",
      "[125]\tvalidation-rmse:5.23254\n",
      "[126]\tvalidation-rmse:5.23223\n",
      "[127]\tvalidation-rmse:5.23217\n",
      "[128]\tvalidation-rmse:5.23199\n",
      "[129]\tvalidation-rmse:5.23185\n",
      "[130]\tvalidation-rmse:5.23151\n",
      "[131]\tvalidation-rmse:5.23121\n",
      "[132]\tvalidation-rmse:5.23113\n",
      "[133]\tvalidation-rmse:5.23109\n",
      "[134]\tvalidation-rmse:5.23084\n",
      "[135]\tvalidation-rmse:5.23109\n",
      "[136]\tvalidation-rmse:5.23022\n",
      "[137]\tvalidation-rmse:5.23005\n",
      "[138]\tvalidation-rmse:5.23000\n",
      "[139]\tvalidation-rmse:5.22996\n",
      "[140]\tvalidation-rmse:5.23037\n",
      "[141]\tvalidation-rmse:5.22970\n",
      "[142]\tvalidation-rmse:5.22960\n",
      "[143]\tvalidation-rmse:5.22957\n",
      "[144]\tvalidation-rmse:5.22939\n",
      "[145]\tvalidation-rmse:5.22943\n",
      "[146]\tvalidation-rmse:5.22901\n",
      "[147]\tvalidation-rmse:5.22935\n",
      "[148]\tvalidation-rmse:5.22881\n",
      "[149]\tvalidation-rmse:5.22872\n",
      "[150]\tvalidation-rmse:5.22913\n",
      "[151]\tvalidation-rmse:5.22907\n",
      "[152]\tvalidation-rmse:5.22898\n",
      "[153]\tvalidation-rmse:5.22894\n",
      "[154]\tvalidation-rmse:5.22895\n",
      "[155]\tvalidation-rmse:5.22880\n",
      "[156]\tvalidation-rmse:5.22872\n",
      "[157]\tvalidation-rmse:5.22858\n",
      "[158]\tvalidation-rmse:5.22848\n",
      "[159]\tvalidation-rmse:5.22843\n",
      "[160]\tvalidation-rmse:5.22825\n",
      "[161]\tvalidation-rmse:5.22814\n",
      "[162]\tvalidation-rmse:5.22813\n",
      "[163]\tvalidation-rmse:5.22795\n",
      "[164]\tvalidation-rmse:5.22780\n",
      "[165]\tvalidation-rmse:5.22781\n",
      "[166]\tvalidation-rmse:5.22762\n",
      "[167]\tvalidation-rmse:5.22738\n",
      "[168]\tvalidation-rmse:5.22720\n",
      "[169]\tvalidation-rmse:5.22720\n",
      "[170]\tvalidation-rmse:5.22705\n",
      "[171]\tvalidation-rmse:5.22696\n",
      "[172]\tvalidation-rmse:5.22679\n",
      "[173]\tvalidation-rmse:5.22657\n",
      "[174]\tvalidation-rmse:5.22648\n",
      "[175]\tvalidation-rmse:5.22627\n",
      "[176]\tvalidation-rmse:5.22607\n",
      "[177]\tvalidation-rmse:5.22595\n",
      "[178]\tvalidation-rmse:5.22575\n",
      "[179]\tvalidation-rmse:5.22570\n",
      "[180]\tvalidation-rmse:5.22551\n",
      "[181]\tvalidation-rmse:5.22526\n",
      "[182]\tvalidation-rmse:5.22525\n",
      "[183]\tvalidation-rmse:5.22512\n",
      "[184]\tvalidation-rmse:5.22507\n",
      "[185]\tvalidation-rmse:5.22473\n",
      "[186]\tvalidation-rmse:5.22484\n",
      "[187]\tvalidation-rmse:5.22455\n",
      "[188]\tvalidation-rmse:5.22453\n",
      "[189]\tvalidation-rmse:5.22449\n",
      "[190]\tvalidation-rmse:5.22435\n",
      "[191]\tvalidation-rmse:5.22427\n",
      "[192]\tvalidation-rmse:5.22397\n",
      "[193]\tvalidation-rmse:5.22395\n",
      "[194]\tvalidation-rmse:5.22387\n",
      "[195]\tvalidation-rmse:5.22370\n",
      "[196]\tvalidation-rmse:5.22358\n",
      "[197]\tvalidation-rmse:5.22352\n",
      "[198]\tvalidation-rmse:5.22338\n",
      "[199]\tvalidation-rmse:5.22329\n",
      "[200]\tvalidation-rmse:5.22321\n",
      "[201]\tvalidation-rmse:5.22319\n",
      "[202]\tvalidation-rmse:5.22320\n",
      "[203]\tvalidation-rmse:5.22304\n",
      "[204]\tvalidation-rmse:5.22289\n",
      "[205]\tvalidation-rmse:5.22272\n",
      "[206]\tvalidation-rmse:5.22274\n",
      "[207]\tvalidation-rmse:5.22257\n",
      "[208]\tvalidation-rmse:5.22248\n",
      "[209]\tvalidation-rmse:5.22242\n",
      "[210]\tvalidation-rmse:5.22233\n",
      "[211]\tvalidation-rmse:5.22209\n",
      "[212]\tvalidation-rmse:5.22179\n",
      "[213]\tvalidation-rmse:5.22167\n",
      "[214]\tvalidation-rmse:5.22165\n",
      "[215]\tvalidation-rmse:5.22106\n",
      "[216]\tvalidation-rmse:5.22098\n",
      "[217]\tvalidation-rmse:5.22151\n",
      "[218]\tvalidation-rmse:5.22113\n",
      "[219]\tvalidation-rmse:5.22091\n",
      "[220]\tvalidation-rmse:5.22084\n",
      "[221]\tvalidation-rmse:5.22057\n",
      "[222]\tvalidation-rmse:5.22084\n",
      "[223]\tvalidation-rmse:5.22076\n",
      "[224]\tvalidation-rmse:5.22081\n",
      "[225]\tvalidation-rmse:5.22053\n",
      "[226]\tvalidation-rmse:5.22035\n",
      "[227]\tvalidation-rmse:5.22042\n",
      "[228]\tvalidation-rmse:5.22032\n",
      "[229]\tvalidation-rmse:5.21973\n",
      "[230]\tvalidation-rmse:5.22018\n",
      "[231]\tvalidation-rmse:5.22001\n",
      "[232]\tvalidation-rmse:5.21959\n",
      "[233]\tvalidation-rmse:5.21954\n",
      "[234]\tvalidation-rmse:5.21946\n",
      "[235]\tvalidation-rmse:5.21929\n",
      "[236]\tvalidation-rmse:5.21925\n",
      "[237]\tvalidation-rmse:5.21899\n",
      "[238]\tvalidation-rmse:5.21894\n",
      "[239]\tvalidation-rmse:5.21885\n",
      "[240]\tvalidation-rmse:5.21861\n",
      "[241]\tvalidation-rmse:5.21857\n",
      "[242]\tvalidation-rmse:5.21858\n",
      "[243]\tvalidation-rmse:5.21889\n",
      "[244]\tvalidation-rmse:5.21852\n",
      "[245]\tvalidation-rmse:5.21854\n",
      "[246]\tvalidation-rmse:5.21849\n",
      "[247]\tvalidation-rmse:5.21843\n",
      "[248]\tvalidation-rmse:5.21814\n",
      "[249]\tvalidation-rmse:5.21848\n",
      "[250]\tvalidation-rmse:5.21813\n",
      "[251]\tvalidation-rmse:5.21800\n",
      "[252]\tvalidation-rmse:5.21831\n",
      "[253]\tvalidation-rmse:5.21831\n",
      "[254]\tvalidation-rmse:5.21824\n",
      "[255]\tvalidation-rmse:5.21826\n",
      "[256]\tvalidation-rmse:5.21775\n",
      "[257]\tvalidation-rmse:5.21745\n",
      "[258]\tvalidation-rmse:5.21708\n",
      "[259]\tvalidation-rmse:5.21699\n",
      "[260]\tvalidation-rmse:5.21681\n",
      "[261]\tvalidation-rmse:5.21675\n",
      "[262]\tvalidation-rmse:5.21669\n",
      "[263]\tvalidation-rmse:5.21647\n",
      "[264]\tvalidation-rmse:5.21638\n",
      "[265]\tvalidation-rmse:5.21643\n",
      "[266]\tvalidation-rmse:5.21629\n",
      "[267]\tvalidation-rmse:5.21649\n",
      "[268]\tvalidation-rmse:5.21645\n",
      "[269]\tvalidation-rmse:5.21638\n",
      "[270]\tvalidation-rmse:5.21635\n",
      "[271]\tvalidation-rmse:5.21627\n",
      "[272]\tvalidation-rmse:5.21623\n",
      "[273]\tvalidation-rmse:5.21615\n",
      "[274]\tvalidation-rmse:5.21607\n",
      "[275]\tvalidation-rmse:5.21580\n",
      "[276]\tvalidation-rmse:5.21579\n",
      "[277]\tvalidation-rmse:5.21563\n",
      "[278]\tvalidation-rmse:5.21554\n",
      "[279]\tvalidation-rmse:5.21517\n",
      "[280]\tvalidation-rmse:5.21551\n",
      "[281]\tvalidation-rmse:5.21553\n",
      "[282]\tvalidation-rmse:5.21545\n",
      "[283]\tvalidation-rmse:5.21536\n",
      "[284]\tvalidation-rmse:5.21537\n",
      "[285]\tvalidation-rmse:5.21518\n",
      "[286]\tvalidation-rmse:5.21517\n",
      "[287]\tvalidation-rmse:5.21510\n",
      "[288]\tvalidation-rmse:5.21508\n",
      "[289]\tvalidation-rmse:5.21499\n",
      "[290]\tvalidation-rmse:5.21504\n",
      "[291]\tvalidation-rmse:5.21490\n",
      "[292]\tvalidation-rmse:5.21481\n",
      "[293]\tvalidation-rmse:5.21479\n",
      "[294]\tvalidation-rmse:5.21474\n",
      "[295]\tvalidation-rmse:5.21465\n",
      "[296]\tvalidation-rmse:5.21457\n",
      "[297]\tvalidation-rmse:5.21450\n",
      "[298]\tvalidation-rmse:5.21446\n",
      "[299]\tvalidation-rmse:5.21434\n",
      "[300]\tvalidation-rmse:5.21436\n",
      "[301]\tvalidation-rmse:5.21428\n",
      "[302]\tvalidation-rmse:5.21419\n",
      "[303]\tvalidation-rmse:5.21410\n",
      "[304]\tvalidation-rmse:5.21404\n",
      "[305]\tvalidation-rmse:5.21401\n",
      "[306]\tvalidation-rmse:5.21396\n",
      "[307]\tvalidation-rmse:5.21357\n",
      "[308]\tvalidation-rmse:5.21391\n",
      "[309]\tvalidation-rmse:5.21383\n",
      "[310]\tvalidation-rmse:5.21379\n",
      "[311]\tvalidation-rmse:5.21364\n",
      "[312]\tvalidation-rmse:5.21360\n",
      "[313]\tvalidation-rmse:5.21356\n",
      "[314]\tvalidation-rmse:5.21358\n",
      "[315]\tvalidation-rmse:5.21350\n",
      "[316]\tvalidation-rmse:5.21339\n",
      "[317]\tvalidation-rmse:5.21332\n",
      "[318]\tvalidation-rmse:5.21322\n",
      "[319]\tvalidation-rmse:5.21317\n",
      "[320]\tvalidation-rmse:5.21315\n",
      "[321]\tvalidation-rmse:5.21308\n",
      "[322]\tvalidation-rmse:5.21296\n",
      "[323]\tvalidation-rmse:5.21252\n",
      "[324]\tvalidation-rmse:5.21240\n",
      "[325]\tvalidation-rmse:5.21227\n",
      "[326]\tvalidation-rmse:5.21225\n",
      "[327]\tvalidation-rmse:5.21203\n",
      "[328]\tvalidation-rmse:5.21191\n",
      "[329]\tvalidation-rmse:5.21159\n",
      "[330]\tvalidation-rmse:5.21152\n",
      "[331]\tvalidation-rmse:5.21149\n",
      "[332]\tvalidation-rmse:5.21178\n",
      "[333]\tvalidation-rmse:5.21171\n",
      "[334]\tvalidation-rmse:5.21168\n",
      "[335]\tvalidation-rmse:5.21160\n",
      "[336]\tvalidation-rmse:5.21159\n",
      "[337]\tvalidation-rmse:5.21146\n",
      "[338]\tvalidation-rmse:5.21147\n",
      "[339]\tvalidation-rmse:5.21141\n",
      "[340]\tvalidation-rmse:5.21129\n",
      "[341]\tvalidation-rmse:5.21132\n",
      "[342]\tvalidation-rmse:5.21131\n",
      "[343]\tvalidation-rmse:5.21126\n",
      "[344]\tvalidation-rmse:5.21115\n",
      "[345]\tvalidation-rmse:5.21111\n",
      "[346]\tvalidation-rmse:5.21074\n",
      "[347]\tvalidation-rmse:5.21066\n",
      "[348]\tvalidation-rmse:5.21063\n",
      "[349]\tvalidation-rmse:5.21057\n",
      "[350]\tvalidation-rmse:5.21053\n",
      "[351]\tvalidation-rmse:5.21049\n",
      "[352]\tvalidation-rmse:5.21047\n",
      "[353]\tvalidation-rmse:5.21042\n",
      "[354]\tvalidation-rmse:5.21035\n",
      "[355]\tvalidation-rmse:5.21030\n",
      "[356]\tvalidation-rmse:5.21022\n",
      "[357]\tvalidation-rmse:5.21029\n",
      "[358]\tvalidation-rmse:5.21022\n",
      "[359]\tvalidation-rmse:5.21014\n",
      "[360]\tvalidation-rmse:5.21019\n",
      "[361]\tvalidation-rmse:5.21009\n",
      "[362]\tvalidation-rmse:5.21007\n",
      "[363]\tvalidation-rmse:5.20996\n",
      "[364]\tvalidation-rmse:5.20986\n",
      "[365]\tvalidation-rmse:5.20985\n",
      "[366]\tvalidation-rmse:5.20975\n",
      "[367]\tvalidation-rmse:5.20971\n",
      "[368]\tvalidation-rmse:5.20965\n",
      "[369]\tvalidation-rmse:5.20971\n",
      "[370]\tvalidation-rmse:5.20981\n",
      "[371]\tvalidation-rmse:5.20954\n",
      "[372]\tvalidation-rmse:5.20950\n",
      "[373]\tvalidation-rmse:5.20935\n",
      "[374]\tvalidation-rmse:5.20935\n",
      "[375]\tvalidation-rmse:5.20932\n",
      "[376]\tvalidation-rmse:5.20925\n",
      "[377]\tvalidation-rmse:5.20952\n",
      "[378]\tvalidation-rmse:5.20942\n",
      "[379]\tvalidation-rmse:5.20937\n",
      "[380]\tvalidation-rmse:5.20939\n",
      "[381]\tvalidation-rmse:5.20938\n",
      "[382]\tvalidation-rmse:5.20925\n",
      "[383]\tvalidation-rmse:5.20922\n",
      "[384]\tvalidation-rmse:5.20904\n",
      "[385]\tvalidation-rmse:5.20897\n",
      "[386]\tvalidation-rmse:5.20896\n",
      "[387]\tvalidation-rmse:5.20883\n",
      "[388]\tvalidation-rmse:5.20878\n",
      "[389]\tvalidation-rmse:5.20877\n",
      "[390]\tvalidation-rmse:5.20874\n",
      "[391]\tvalidation-rmse:5.20864\n",
      "[392]\tvalidation-rmse:5.20852\n",
      "[393]\tvalidation-rmse:5.20847\n",
      "[394]\tvalidation-rmse:5.20841\n",
      "[395]\tvalidation-rmse:5.20839\n",
      "[396]\tvalidation-rmse:5.20809\n",
      "[397]\tvalidation-rmse:5.20805\n",
      "[398]\tvalidation-rmse:5.20799\n",
      "[399]\tvalidation-rmse:5.20806\n",
      "[400]\tvalidation-rmse:5.20803\n",
      "[401]\tvalidation-rmse:5.20766\n",
      "[402]\tvalidation-rmse:5.20801\n",
      "[403]\tvalidation-rmse:5.20765\n",
      "[404]\tvalidation-rmse:5.20769\n",
      "[405]\tvalidation-rmse:5.20798\n",
      "[406]\tvalidation-rmse:5.20785\n",
      "[407]\tvalidation-rmse:5.20784\n",
      "[408]\tvalidation-rmse:5.20782\n",
      "[409]\tvalidation-rmse:5.20779\n",
      "[410]\tvalidation-rmse:5.20775\n",
      "[411]\tvalidation-rmse:5.20769\n",
      "[412]\tvalidation-rmse:5.20743\n",
      "[413]\tvalidation-rmse:5.20744\n",
      "[414]\tvalidation-rmse:5.20731\n",
      "[415]\tvalidation-rmse:5.20757\n",
      "[416]\tvalidation-rmse:5.20758\n",
      "[417]\tvalidation-rmse:5.20755\n",
      "[418]\tvalidation-rmse:5.20724\n",
      "[419]\tvalidation-rmse:5.20708\n",
      "[420]\tvalidation-rmse:5.20700\n",
      "[421]\tvalidation-rmse:5.20703\n",
      "[422]\tvalidation-rmse:5.20696\n",
      "[423]\tvalidation-rmse:5.20721\n",
      "[424]\tvalidation-rmse:5.20718\n",
      "[425]\tvalidation-rmse:5.20712\n",
      "[426]\tvalidation-rmse:5.20674\n",
      "[427]\tvalidation-rmse:5.20692\n",
      "[428]\tvalidation-rmse:5.20686\n",
      "[429]\tvalidation-rmse:5.20685\n",
      "[430]\tvalidation-rmse:5.20684\n",
      "[431]\tvalidation-rmse:5.20674\n",
      "[432]\tvalidation-rmse:5.20653\n",
      "[433]\tvalidation-rmse:5.20647\n",
      "[434]\tvalidation-rmse:5.20646\n",
      "[435]\tvalidation-rmse:5.20625\n",
      "[436]\tvalidation-rmse:5.20623\n",
      "[437]\tvalidation-rmse:5.20597\n",
      "[438]\tvalidation-rmse:5.20599\n",
      "[439]\tvalidation-rmse:5.20594\n",
      "[440]\tvalidation-rmse:5.20579\n",
      "[441]\tvalidation-rmse:5.20574\n",
      "[442]\tvalidation-rmse:5.20569\n",
      "[443]\tvalidation-rmse:5.20555\n",
      "[444]\tvalidation-rmse:5.20552\n",
      "[445]\tvalidation-rmse:5.20548\n",
      "[446]\tvalidation-rmse:5.20539\n",
      "[447]\tvalidation-rmse:5.20539\n",
      "[448]\tvalidation-rmse:5.20529\n",
      "[449]\tvalidation-rmse:5.20529\n",
      "[450]\tvalidation-rmse:5.20521\n",
      "[451]\tvalidation-rmse:5.20518\n",
      "[452]\tvalidation-rmse:5.20509\n",
      "[453]\tvalidation-rmse:5.20510\n",
      "[454]\tvalidation-rmse:5.20494\n",
      "[455]\tvalidation-rmse:5.20513\n",
      "[456]\tvalidation-rmse:5.20515\n",
      "[457]\tvalidation-rmse:5.20509\n",
      "[458]\tvalidation-rmse:5.20478\n",
      "[459]\tvalidation-rmse:5.20498\n",
      "[460]\tvalidation-rmse:5.20468\n",
      "[461]\tvalidation-rmse:5.20472\n",
      "[462]\tvalidation-rmse:5.20492\n",
      "[463]\tvalidation-rmse:5.20485\n",
      "[464]\tvalidation-rmse:5.20456\n",
      "[465]\tvalidation-rmse:5.20480\n",
      "[466]\tvalidation-rmse:5.20452\n",
      "[467]\tvalidation-rmse:5.20449\n",
      "[468]\tvalidation-rmse:5.20446\n",
      "[469]\tvalidation-rmse:5.20439\n",
      "[470]\tvalidation-rmse:5.20438\n",
      "[471]\tvalidation-rmse:5.20462\n",
      "[472]\tvalidation-rmse:5.20431\n",
      "[473]\tvalidation-rmse:5.20431\n",
      "[474]\tvalidation-rmse:5.20397\n",
      "[475]\tvalidation-rmse:5.20434\n",
      "[476]\tvalidation-rmse:5.20433\n",
      "[477]\tvalidation-rmse:5.20428\n",
      "[478]\tvalidation-rmse:5.20429\n",
      "[479]\tvalidation-rmse:5.20417\n",
      "[480]\tvalidation-rmse:5.20417\n",
      "[481]\tvalidation-rmse:5.20415\n",
      "[482]\tvalidation-rmse:5.20407\n",
      "[483]\tvalidation-rmse:5.20406\n",
      "[484]\tvalidation-rmse:5.20410\n",
      "[485]\tvalidation-rmse:5.20404\n",
      "[486]\tvalidation-rmse:5.20399\n",
      "[487]\tvalidation-rmse:5.20403\n",
      "[488]\tvalidation-rmse:5.20404\n",
      "[489]\tvalidation-rmse:5.20403\n",
      "[490]\tvalidation-rmse:5.20397\n",
      "[491]\tvalidation-rmse:5.20366\n",
      "[492]\tvalidation-rmse:5.20366\n",
      "[493]\tvalidation-rmse:5.20368\n",
      "[494]\tvalidation-rmse:5.20390\n",
      "[495]\tvalidation-rmse:5.20382\n",
      "[496]\tvalidation-rmse:5.20380\n",
      "[497]\tvalidation-rmse:5.20384\n",
      "[498]\tvalidation-rmse:5.20377\n",
      "[499]\tvalidation-rmse:5.20369\n"
     ]
    },
    {
     "name": "stderr",
     "output_type": "stream",
     "text": [
      "/home/ganesh/anaconda3/lib/python3.11/site-packages/sklearn/metrics/_regression.py:492: FutureWarning: 'squared' is deprecated in version 1.4 and will be removed in 1.6. To calculate the root mean squared error, use the function'root_mean_squared_error'.\n",
      "  warnings.warn(\n",
      "/home/ganesh/anaconda3/lib/python3.11/site-packages/xgboost/core.py:160: UserWarning: [21:38:37] WARNING: /home/conda/feedstock_root/build_artifacts/xgboost-split_1713397725960/work/src/c_api/c_api.cc:1240: Saving into deprecated binary model format, please consider using `json` or `ubj`. Model format will default to JSON in XGBoost 2.2 if not specified.\n",
      "  warnings.warn(smsg, UserWarning)\n"
     ]
    }
   ],
   "source": [
    "with mlflow.start_run():\n",
    "    params = {\"learning_rate\":0.7727401314948932,\n",
    "                \"max_depth\":63,\n",
    "                \"min_child_weight\":6.474336231446163,\n",
    "                \"objective\" : \"reg:linear\",\n",
    "                \"reg_alpha\" :0.09158212128338573,\n",
    "                \"reg_lambda\":0.004014057311104894,\n",
    "                \"seed\" :42, \n",
    "    }\n",
    "\n",
    "    mlflow.log_params(params)\n",
    "        \n",
    "    booster = xgb.train(\n",
    "        params=params,\n",
    "        dtrain=train,\n",
    "        num_boost_round=500,\n",
    "        evals=[(valid, 'validation')],\n",
    "        early_stopping_rounds=50\n",
    "    )\n",
    "\n",
    "    y_pred = booster.predict(valid)\n",
    "    rmse = mean_squared_error(y_val, y_pred, squared=False)\n",
    "    mlflow.log_metric(\"rmse\", rmse)\n",
    "\n",
    "    with open('./models/preprocessor.b', 'wb' ) as f_out :\n",
    "        pickle.dump((dv, lr), f_out)\n",
    "    \n",
    "    mlflow.log_artifact('./models/preprocessor.b', artifact_path=\"preprocessor\")\n",
    "\n",
    "    mlflow.xgboost.log_model(booster, artifact_path=\"models_mlflow\")"
   ]
  },
  {
   "cell_type": "code",
   "execution_count": 35,
   "id": "06203794-7b41-4f0b-81a6-9aa629e82835",
   "metadata": {},
   "outputs": [],
   "source": [
    "logged_model = 'runs:/41132515eb5149bca0c3504f1c81cf71/models_mlflow'"
   ]
  },
  {
   "cell_type": "code",
   "execution_count": 36,
   "id": "3fb2cd1d",
   "metadata": {},
   "outputs": [
    {
     "name": "stderr",
     "output_type": "stream",
     "text": [
      "/home/ganesh/anaconda3/lib/python3.11/site-packages/xgboost/core.py:160: UserWarning: [21:39:27] WARNING: /home/conda/feedstock_root/build_artifacts/xgboost-split_1713397725960/work/src/objective/regression_obj.cu:209: reg:linear is now deprecated in favor of reg:squarederror.\n",
      "  warnings.warn(smsg, UserWarning)\n"
     ]
    }
   ],
   "source": [
    "xgb_model = mlflow.xgboost.load_model(logged_model)"
   ]
  },
  {
   "cell_type": "code",
   "execution_count": 38,
   "id": "099d8e0c",
   "metadata": {},
   "outputs": [
    {
     "data": {
      "text/plain": [
       "array([ 6.3284273, 44.159    , 15.9019   , ..., 15.249503 , 11.978197 ,\n",
       "       13.525034 ], dtype=float32)"
      ]
     },
     "execution_count": 38,
     "metadata": {},
     "output_type": "execute_result"
    }
   ],
   "source": [
    "y_pred = xgb_model.predict(valid)"
   ]
  },
  {
   "cell_type": "code",
   "execution_count": 39,
   "id": "5425af71",
   "metadata": {},
   "outputs": [
    {
     "data": {
      "text/plain": [
       "array([ 6.3284273, 44.159    , 15.9019   , 21.602337 , 25.264547 ,\n",
       "        5.5126605, 20.113096 ,  5.9981194,  6.8515706, 12.069719 ],\n",
       "      dtype=float32)"
      ]
     },
     "execution_count": 39,
     "metadata": {},
     "output_type": "execute_result"
    }
   ],
   "source": [
    "y_pred[:10]"
   ]
  },
  {
   "cell_type": "code",
   "execution_count": null,
   "id": "b7509bdb",
   "metadata": {},
   "outputs": [],
   "source": []
  }
 ],
 "metadata": {
  "kernelspec": {
   "display_name": "Python 3 (ipykernel)",
   "language": "python",
   "name": "python3"
  },
  "language_info": {
   "codemirror_mode": {
    "name": "ipython",
    "version": 3
   },
   "file_extension": ".py",
   "mimetype": "text/x-python",
   "name": "python",
   "nbconvert_exporter": "python",
   "pygments_lexer": "ipython3",
   "version": "3.11.7"
  }
 },
 "nbformat": 4,
 "nbformat_minor": 5
}
